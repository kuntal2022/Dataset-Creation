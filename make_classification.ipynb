{
 "cells": [
  {
   "cell_type": "markdown",
   "id": "307d1ce3",
   "metadata": {},
   "source": [
    "# Creation of DF \n",
    "Kuntal Chakraborty"
   ]
  },
  {
   "cell_type": "code",
   "execution_count": 6,
   "id": "7246dc96",
   "metadata": {},
   "outputs": [],
   "source": [
    "# import the modules\n",
    "import pandas as pd, numpy as np, seaborn as sns, matplotlib.pyplot as plt, warnings\n",
    "warnings.filterwarnings('ignore')\n",
    "\n",
    "# import make_classification\n",
    "from sklearn.datasets import make_classification"
   ]
  },
  {
   "cell_type": "markdown",
   "id": "7f53fa19",
   "metadata": {},
   "source": [
    "# Createing a Balanced DF"
   ]
  },
  {
   "cell_type": "code",
   "execution_count": 64,
   "id": "1ba0fb70",
   "metadata": {},
   "outputs": [],
   "source": [
    "# creating X and Y arrays\n",
    "\n",
    "X,Y=make_classification(n_samples=100, # rows \n",
    "                        n_features=6, # columns  \n",
    "                        weights=[0.50], # to balance the data set \n",
    "                        n_clusters_per_class=1, # group inside of the dataset\n",
    "                        n_redundant=2, # redundant columns\n",
    "                        n_repeated=1, # to make dublicated features\n",
    "                        n_informative=1, # informative features \n",
    "                        random_state=9, \n",
    "                        n_classes=2  # define the classifiaction classes\n",
    "                       )"
   ]
  },
  {
   "cell_type": "markdown",
   "id": "df4dc9f8",
   "metadata": {},
   "source": [
    "# Things to remember\n",
    "\n",
    "* (n_redundant + n_repeated + n_informative) <= n_features\n",
    "* (n_classes * n_clusters_per_class) <= 2 ** n_informative"
   ]
  },
  {
   "cell_type": "code",
   "execution_count": 68,
   "id": "5f7fd915",
   "metadata": {},
   "outputs": [
    {
     "data": {
      "text/plain": [
       "((100, 6), (100,))"
      ]
     },
     "execution_count": 68,
     "metadata": {},
     "output_type": "execute_result"
    }
   ],
   "source": [
    "# check X, Y \n",
    "X.shape, Y.shape\n",
    "\n",
    "# make_classification returns X and Y as in array formats"
   ]
  },
  {
   "cell_type": "code",
   "execution_count": 69,
   "id": "f84e4641",
   "metadata": {},
   "outputs": [
    {
     "data": {
      "text/plain": [
       "array([[-0.66246529, -0.66246529, -1.18304978, -2.61148892, -1.85121077,\n",
       "        -1.55105134],\n",
       "       [-0.19200414, -0.19200414, -0.54435338,  1.32358099, -0.53654153,\n",
       "        -0.44954549],\n",
       "       [-0.7904159 , -0.7904159 , -0.66428367,  0.61996452, -2.20875941,\n",
       "        -1.85062625],\n",
       "       [ 0.37880565,  0.37880565, -0.42536904,  1.78231141,  1.05854468,\n",
       "         0.88690989],\n",
       "       [-0.46681097, -0.46681097, -0.88540129,  0.41254364, -1.30446909,\n",
       "        -1.09295957],\n",
       "       [-0.93516795, -0.93516795, -1.24560364,  0.30880786, -2.61325841,\n",
       "        -2.18953888],\n",
       "       [ 0.52866173,  0.52866173, -0.94757711, -0.56455657,  1.47730651,\n",
       "         1.23777275],\n",
       "       [ 0.19428257,  0.19428257, -0.51860746,  0.60455185,  0.54290844,\n",
       "         0.45488006],\n",
       "       [-0.50264451, -0.50264451, -0.42842802,  0.1418366 , -1.40460332,\n",
       "        -1.17685781],\n",
       "       [ 0.28220867,  0.28220867, -0.39882861, -0.36372513,  0.78861149,\n",
       "         0.66074427],\n",
       "       [-0.05161413, -0.05161413, -0.2309682 ,  0.58372339, -0.14423191,\n",
       "        -0.12084583],\n",
       "       [-0.19823049, -0.19823049,  0.67637077, -0.52516456, -0.55394061,\n",
       "        -0.46412344],\n",
       "       [ 0.50501342,  0.50501342,  0.53140913,  0.19451617,  1.41122306,\n",
       "         1.18240422],\n",
       "       [ 0.34682188,  0.34682188,  1.93802861,  0.56516032,  0.96916836,\n",
       "         0.81202525],\n",
       "       [-0.1925608 , -0.1925608 , -0.68441278,  0.5696869 , -0.53809706,\n",
       "        -0.45084881],\n",
       "       [-0.73290443, -0.73290443,  0.60477577, -1.94091618, -2.04804781,\n",
       "        -1.71597278],\n",
       "       [-0.8188119 , -0.8188119 , -1.11814424, -0.15138794, -2.28810995,\n",
       "        -1.91711072],\n",
       "       [ 0.58903644,  0.58903644, -1.30846077, -0.27730262,  1.64601925,\n",
       "         1.37913003],\n",
       "       [-0.56882256, -0.56882256, -0.42472563,  0.70660946, -1.58953303,\n",
       "        -1.33180261],\n",
       "       [ 0.22359515,  0.22359515, -0.92955987, -1.04575616,  0.6248203 ,\n",
       "         0.52351054],\n",
       "       [-0.05902593, -0.05902593,  1.6181611 , -0.93195051, -0.16494365,\n",
       "        -0.13819932],\n",
       "       [-0.33045528, -0.33045528,  0.56600903, -0.29918537, -0.92343311,\n",
       "        -0.77370561],\n",
       "       [-0.35822292, -0.35822292, -0.86737002,  1.24300117, -1.00102774,\n",
       "        -0.83871888],\n",
       "       [ 0.28591649,  0.28591649, -1.88275976,  0.65989516,  0.7989727 ,\n",
       "         0.66942549],\n",
       "       [ 0.05490717,  0.05490717,  0.24803754,  0.45211335,  0.15343407,\n",
       "         0.12855593],\n",
       "       [ 0.46057925,  0.46057925,  1.33777932,  1.11475871,  1.28705502,\n",
       "         1.07836906],\n",
       "       [ 0.17423025,  0.17423025,  1.46423225, -0.53869728,  0.48687368,\n",
       "         0.4079309 ],\n",
       "       [ 0.8201908 ,  0.8201908 ,  1.2627291 ,  0.20704757,  2.29196318,\n",
       "         1.92033918],\n",
       "       [ 0.36265737,  0.36265737, -0.66557021,  0.45628367,  1.01341949,\n",
       "         0.8491014 ],\n",
       "       [ 0.26341297,  0.26341297,  1.34129583, -1.63425531,  0.73608827,\n",
       "         0.61673728],\n",
       "       [ 0.03319478,  0.03319478,  0.24124514, -0.91375714,  0.09276037,\n",
       "         0.07772   ],\n",
       "       [-0.23317292, -0.23317292, -0.48273382,  0.78692374, -0.65158466,\n",
       "        -0.54593528],\n",
       "       [ 0.12625013,  0.12625013,  0.89409137,  0.86013705,  0.35279675,\n",
       "         0.2955935 ],\n",
       "       [ 0.48483502,  0.48483502,  0.97156957, -0.68344868,  1.35483598,\n",
       "         1.13515986],\n",
       "       [-0.19500021, -0.19500021, -0.42731538, -1.15220191, -0.54491381,\n",
       "        -0.45656027],\n",
       "       [ 0.60352831,  0.60352831,  1.29619587,  1.79341082,  1.6865157 ,\n",
       "         1.41306029],\n",
       "       [-0.05485957, -0.05485957,  0.23348866, -0.56252352, -0.15330106,\n",
       "        -0.12844448],\n",
       "       [ 0.23128619,  0.23128619, -3.19823067, -0.54452495,  0.64631233,\n",
       "         0.54151781],\n",
       "       [ 0.3850202 ,  0.3850202 ,  0.36375187, -1.45079522,  1.07591079,\n",
       "         0.90146022],\n",
       "       [-0.23232744, -0.23232744,  1.00108696, -1.36105936, -0.64922203,\n",
       "        -0.54395573],\n",
       "       [ 0.35350747,  0.35350747, -1.63582763, -0.88628782,  0.98785076,\n",
       "         0.82767844],\n",
       "       [-0.33919085, -0.33919085,  0.19849204,  0.38023398, -0.947844  ,\n",
       "        -0.79415847],\n",
       "       [-0.86968131, -0.86968131, -0.42621985,  0.13169385, -2.43026078,\n",
       "        -2.0362129 ],\n",
       "       [ 0.35789753,  0.35789753,  1.8283718 , -0.00639903,  1.00011845,\n",
       "         0.83795702],\n",
       "       [ 0.61951989,  0.61951989,  2.26794918,  1.57548003,  1.73120302,\n",
       "         1.45050191],\n",
       "       [-0.52916863, -0.52916863,  0.52202998,  0.24358279, -1.47872301,\n",
       "        -1.23895957],\n",
       "       [ 0.67531745,  0.67531745,  1.14171294,  1.7650287 ,  1.88712522,\n",
       "         1.58114254],\n",
       "       [ 0.35632931,  0.35632931, -0.47149247,  1.09288292,  0.99573619,\n",
       "         0.83428531],\n",
       "       [-0.30798967, -0.30798967, -0.6151631 ,  0.91617588, -0.86065461,\n",
       "        -0.72110616],\n",
       "       [-0.42712037, -0.42712037,  0.98517705,  0.86357222, -1.19355664,\n",
       "        -1.00003071],\n",
       "       [ 0.38903293,  0.38903293, -0.3496646 , -0.62847094,  1.08712407,\n",
       "         0.91085535],\n",
       "       [ 0.26156551,  0.26156551,  0.57217972, -0.24245393,  0.73092569,\n",
       "         0.61241177],\n",
       "       [-0.14288781, -0.14288781, -0.47071192,  2.03266288, -0.39928953,\n",
       "        -0.33454784],\n",
       "       [ 0.04154856,  0.04154856, -0.57527753,  0.85439371,  0.11610441,\n",
       "         0.09727898],\n",
       "       [ 0.18589662,  0.18589662,  0.16892027, -0.04611915,  0.5194745 ,\n",
       "         0.43524575],\n",
       "       [ 0.50121324,  0.50121324,  1.48901163,  0.78828012,  1.40060372,\n",
       "         1.17350672],\n",
       "       [-0.1400661 , -0.1400661 , -0.18885227,  0.15823812, -0.39140445,\n",
       "        -0.32794127],\n",
       "       [ 0.36677022,  0.36677022,  1.07328617, -1.35085327,  1.02491254,\n",
       "         0.85873094],\n",
       "       [-0.7036878 , -0.7036878 , -0.46550146, -1.55363424, -1.96640407,\n",
       "        -1.64756694],\n",
       "       [-0.48409547, -0.48409547, -0.33461757,  0.28292006, -1.35276938,\n",
       "        -1.13342834],\n",
       "       [ 0.01186644,  0.01186644,  0.57593226, -0.58172049,  0.0331599 ,\n",
       "         0.02778328],\n",
       "       [-0.01977653, -0.01977653, -0.72837376,  0.78879539, -0.05526408,\n",
       "        -0.04630344],\n",
       "       [-0.23999855, -0.23999855,  1.00068714,  1.23405896, -0.67065839,\n",
       "        -0.56191634],\n",
       "       [-0.26179409, -0.26179409,  0.94559298,  1.05819367, -0.73156442,\n",
       "        -0.61294694],\n",
       "       [ 0.30478752,  0.30478752, -0.10230362, -0.89109257,  0.85170643,\n",
       "         0.71360886],\n",
       "       [-0.35358107, -0.35358107,  0.47113658,  0.88746877, -0.98805643,\n",
       "        -0.82785076],\n",
       "       [ 0.55353741,  0.55353741, -1.65844949,  0.61639479,  1.5468198 ,\n",
       "         1.296015  ],\n",
       "       [ 0.43387394,  0.43387394,  0.22994347,  1.83583088,  1.21242898,\n",
       "         1.01584305],\n",
       "       [ 0.28457435,  0.28457435, -0.73350937,  1.07390753,  0.7952222 ,\n",
       "         0.6662831 ],\n",
       "       [ 0.52009992,  0.52009992,  0.24664539,  1.82060998,  1.45338118,\n",
       "         1.21772672],\n",
       "       [-0.15012404, -0.15012404, -0.97224509,  0.8992557 , -0.41951066,\n",
       "        -0.35149027],\n",
       "       [ 0.45397556,  0.45397556, -0.17687216, -0.21178823,  1.26860148,\n",
       "         1.06290762],\n",
       "       [-0.58188756, -0.58188756,  0.96928303,  0.19907159, -1.62604221,\n",
       "        -1.36239211],\n",
       "       [-0.59258123, -0.59258123, -0.03305677,  0.62652215, -1.65592488,\n",
       "        -1.38742954],\n",
       "       [ 0.68180829,  0.68180829,  1.42068925,  0.5396281 ,  1.90526338,\n",
       "         1.59633974],\n",
       "       [ 0.32538791,  0.32538791,  0.16013682,  0.26887345,  0.9092727 ,\n",
       "         0.7618412 ],\n",
       "       [-0.45628439, -0.45628439, -0.4187452 ,  1.99462608, -1.27505334,\n",
       "        -1.06831336],\n",
       "       [-0.50076992, -0.50076992, -1.96139819,  0.8798022 , -1.39936489,\n",
       "        -1.17246876],\n",
       "       [-0.28243983, -0.28243983, -0.10547307, -0.03914518, -0.78925743,\n",
       "        -0.66128547],\n",
       "       [ 0.31459783,  0.31459783, -1.19957254, -0.49561497,  0.87912062,\n",
       "         0.73657805],\n",
       "       [ 0.01241839,  0.01241839,  0.571317  ,  0.31419618,  0.03470228,\n",
       "         0.02907558],\n",
       "       [-0.96260454, -0.96260454, -0.16980937,  1.72531501, -2.68992794,\n",
       "        -2.25377705],\n",
       "       [-0.36845777, -0.36845777, -1.21792572,  0.34700775, -1.02962829,\n",
       "        -0.86268207],\n",
       "       [ 0.23234206,  0.23234206,  0.52776875, -0.94125068,  0.64926288,\n",
       "         0.54398995],\n",
       "       [ 0.26875503,  0.26875503,  1.12994253, -0.31592568,  0.75101625,\n",
       "         0.62924481],\n",
       "       [-0.63148639, -0.63148639, -0.28767303, -1.62045736, -1.76464251,\n",
       "        -1.47851945],\n",
       "       [-0.99393474, -0.99393474, -1.0788098 ,  0.14342147, -2.77747791,\n",
       "        -2.32713147],\n",
       "       [ 0.33612654,  0.33612654,  0.97845295, -0.35796752,  0.93928102,\n",
       "         0.78698391],\n",
       "       [-0.27800536, -0.27800536,  1.00287955,  0.60607887, -0.77686564,\n",
       "        -0.65090291],\n",
       "       [-0.17645097, -0.17645097,  0.07405426, -2.16320723, -0.49307932,\n",
       "        -0.41313034],\n",
       "       [-0.14594594, -0.14594594, -0.34587887, -0.80751098, -0.40783524,\n",
       "        -0.34170793],\n",
       "       [-0.31236164, -0.31236164, -1.05603773, -0.24282194, -0.87287175,\n",
       "        -0.73134238],\n",
       "       [ 0.42284155,  0.42284155,  0.53337527,  0.93331511,  1.18159978,\n",
       "         0.99001257],\n",
       "       [ 0.23294825,  0.23294825,  0.66593205,  0.12411957,  0.65095683,\n",
       "         0.54540924],\n",
       "       [-0.44720499, -0.44720499, -2.17117403,  0.93763723, -1.24968161,\n",
       "        -1.04705546],\n",
       "       [-0.78834852, -0.78834852,  1.55664418,  0.55034568, -2.20298226,\n",
       "        -1.84578582],\n",
       "       [ 0.53474463,  0.53474463, -2.13644209,  1.16089793,  1.49430473,\n",
       "         1.25201484],\n",
       "       [-1.17240275, -1.17240275, -0.26331128, -0.85945341, -3.27619371,\n",
       "        -2.74498437],\n",
       "       [ 0.14554468,  0.14554468,  1.85013527,  0.32583116,  0.40671395,\n",
       "         0.34076844],\n",
       "       [ 0.36464537,  0.36464537, -1.50126492,  0.15656605,  1.01897479,\n",
       "         0.85375595]])"
      ]
     },
     "execution_count": 69,
     "metadata": {},
     "output_type": "execute_result"
    }
   ],
   "source": [
    "X"
   ]
  },
  {
   "cell_type": "code",
   "execution_count": 70,
   "id": "4b754a6c",
   "metadata": {},
   "outputs": [
    {
     "data": {
      "text/plain": [
       "array([0, 0, 0, 1, 0, 0, 0, 1, 0, 1, 0, 0, 1, 1, 0, 0, 0, 1, 0, 1, 0, 0,\n",
       "       0, 1, 1, 1, 1, 1, 1, 1, 1, 0, 1, 1, 0, 1, 0, 1, 1, 0, 1, 0, 0, 1,\n",
       "       1, 0, 1, 1, 0, 0, 1, 1, 0, 1, 1, 1, 0, 1, 0, 0, 1, 1, 0, 0, 1, 0,\n",
       "       1, 1, 1, 1, 1, 1, 0, 0, 1, 1, 0, 0, 0, 1, 0, 0, 0, 1, 1, 0, 0, 0,\n",
       "       0, 1, 0, 0, 1, 1, 0, 0, 1, 0, 0, 1])"
      ]
     },
     "execution_count": 70,
     "metadata": {},
     "output_type": "execute_result"
    }
   ],
   "source": [
    "Y"
   ]
  },
  {
   "cell_type": "code",
   "execution_count": 71,
   "id": "2e401b8d",
   "metadata": {},
   "outputs": [],
   "source": [
    "# create the DF for X and Y\n",
    "x_df= pd.DataFrame(X,columns=[\"fa\", \"fb\", 'fc', \"fd\", \"fe\", \"ff\"] ) # setting the columns name\n",
    "y_df=pd.DataFrame(Y, columns=[\"Target\"])"
   ]
  },
  {
   "cell_type": "code",
   "execution_count": 75,
   "id": "e2b16348",
   "metadata": {},
   "outputs": [
    {
     "data": {
      "text/html": [
       "<div>\n",
       "<style scoped>\n",
       "    .dataframe tbody tr th:only-of-type {\n",
       "        vertical-align: middle;\n",
       "    }\n",
       "\n",
       "    .dataframe tbody tr th {\n",
       "        vertical-align: top;\n",
       "    }\n",
       "\n",
       "    .dataframe thead th {\n",
       "        text-align: right;\n",
       "    }\n",
       "</style>\n",
       "<table border=\"1\" class=\"dataframe\">\n",
       "  <thead>\n",
       "    <tr style=\"text-align: right;\">\n",
       "      <th></th>\n",
       "      <th>fa</th>\n",
       "      <th>fb</th>\n",
       "      <th>fc</th>\n",
       "      <th>fd</th>\n",
       "      <th>fe</th>\n",
       "      <th>ff</th>\n",
       "      <th>Target</th>\n",
       "    </tr>\n",
       "  </thead>\n",
       "  <tbody>\n",
       "    <tr>\n",
       "      <th>0</th>\n",
       "      <td>-0.662465</td>\n",
       "      <td>-0.662465</td>\n",
       "      <td>-1.183050</td>\n",
       "      <td>-2.611489</td>\n",
       "      <td>-1.851211</td>\n",
       "      <td>-1.551051</td>\n",
       "      <td>0</td>\n",
       "    </tr>\n",
       "    <tr>\n",
       "      <th>1</th>\n",
       "      <td>-0.192004</td>\n",
       "      <td>-0.192004</td>\n",
       "      <td>-0.544353</td>\n",
       "      <td>1.323581</td>\n",
       "      <td>-0.536542</td>\n",
       "      <td>-0.449545</td>\n",
       "      <td>0</td>\n",
       "    </tr>\n",
       "    <tr>\n",
       "      <th>2</th>\n",
       "      <td>-0.790416</td>\n",
       "      <td>-0.790416</td>\n",
       "      <td>-0.664284</td>\n",
       "      <td>0.619965</td>\n",
       "      <td>-2.208759</td>\n",
       "      <td>-1.850626</td>\n",
       "      <td>0</td>\n",
       "    </tr>\n",
       "    <tr>\n",
       "      <th>3</th>\n",
       "      <td>0.378806</td>\n",
       "      <td>0.378806</td>\n",
       "      <td>-0.425369</td>\n",
       "      <td>1.782311</td>\n",
       "      <td>1.058545</td>\n",
       "      <td>0.886910</td>\n",
       "      <td>1</td>\n",
       "    </tr>\n",
       "    <tr>\n",
       "      <th>4</th>\n",
       "      <td>-0.466811</td>\n",
       "      <td>-0.466811</td>\n",
       "      <td>-0.885401</td>\n",
       "      <td>0.412544</td>\n",
       "      <td>-1.304469</td>\n",
       "      <td>-1.092960</td>\n",
       "      <td>0</td>\n",
       "    </tr>\n",
       "  </tbody>\n",
       "</table>\n",
       "</div>"
      ],
      "text/plain": [
       "         fa        fb        fc        fd        fe        ff  Target\n",
       "0 -0.662465 -0.662465 -1.183050 -2.611489 -1.851211 -1.551051       0\n",
       "1 -0.192004 -0.192004 -0.544353  1.323581 -0.536542 -0.449545       0\n",
       "2 -0.790416 -0.790416 -0.664284  0.619965 -2.208759 -1.850626       0\n",
       "3  0.378806  0.378806 -0.425369  1.782311  1.058545  0.886910       1\n",
       "4 -0.466811 -0.466811 -0.885401  0.412544 -1.304469 -1.092960       0"
      ]
     },
     "execution_count": 75,
     "metadata": {},
     "output_type": "execute_result"
    }
   ],
   "source": [
    "# combine the dfs\n",
    "\n",
    "balanced_df=pd.concat([x_df, y_df], axis=1)\n",
    "balanced_df.head()"
   ]
  },
  {
   "cell_type": "code",
   "execution_count": 83,
   "id": "aa72355a",
   "metadata": {},
   "outputs": [
    {
     "data": {
      "text/plain": [
       "<AxesSubplot:ylabel='Target'>"
      ]
     },
     "execution_count": 83,
     "metadata": {},
     "output_type": "execute_result"
    },
    {
     "data": {
      "image/png": "[encoded data removed]",
      "text/plain": [
       "<Figure size 640x480 with 1 Axes>"
      ]
     },
     "metadata": {},
     "output_type": "display_data"
    }
   ],
   "source": [
    "# check the target weather it has a balaced class\n",
    "\n",
    "(balanced_df.Target.value_counts(normalize=True)*100).plot.pie(autopct=\"% .f%%\")"
   ]
  },
  {
   "cell_type": "markdown",
   "id": "cbddd4f6",
   "metadata": {},
   "source": [
    "# The data is having 50% 1 and 50% 0 in Target feature"
   ]
  },
  {
   "cell_type": "markdown",
   "id": "f3885e07",
   "metadata": {},
   "source": [
    "# Createing a Imbalanced DF"
   ]
  },
  {
   "cell_type": "code",
   "execution_count": 86,
   "id": "35767bdf",
   "metadata": {},
   "outputs": [
    {
     "data": {
      "text/html": [
       "<div>\n",
       "<style scoped>\n",
       "    .dataframe tbody tr th:only-of-type {\n",
       "        vertical-align: middle;\n",
       "    }\n",
       "\n",
       "    .dataframe tbody tr th {\n",
       "        vertical-align: top;\n",
       "    }\n",
       "\n",
       "    .dataframe thead th {\n",
       "        text-align: right;\n",
       "    }\n",
       "</style>\n",
       "<table border=\"1\" class=\"dataframe\">\n",
       "  <thead>\n",
       "    <tr style=\"text-align: right;\">\n",
       "      <th></th>\n",
       "      <th>fa</th>\n",
       "      <th>fb</th>\n",
       "      <th>fc</th>\n",
       "      <th>fd</th>\n",
       "      <th>fe</th>\n",
       "      <th>ff</th>\n",
       "      <th>Target</th>\n",
       "    </tr>\n",
       "  </thead>\n",
       "  <tbody>\n",
       "    <tr>\n",
       "      <th>0</th>\n",
       "      <td>1.450666</td>\n",
       "      <td>0.244494</td>\n",
       "      <td>0.657862</td>\n",
       "      <td>-0.953787</td>\n",
       "      <td>-0.934471</td>\n",
       "      <td>-0.517276</td>\n",
       "      <td>0</td>\n",
       "    </tr>\n",
       "    <tr>\n",
       "      <th>1</th>\n",
       "      <td>-0.245561</td>\n",
       "      <td>0.005620</td>\n",
       "      <td>0.569860</td>\n",
       "      <td>-0.143364</td>\n",
       "      <td>-0.180082</td>\n",
       "      <td>-0.295088</td>\n",
       "      <td>0</td>\n",
       "    </tr>\n",
       "    <tr>\n",
       "      <th>2</th>\n",
       "      <td>-0.679014</td>\n",
       "      <td>1.829301</td>\n",
       "      <td>2.176041</td>\n",
       "      <td>0.502632</td>\n",
       "      <td>-2.097704</td>\n",
       "      <td>-0.098297</td>\n",
       "      <td>0</td>\n",
       "    </tr>\n",
       "    <tr>\n",
       "      <th>3</th>\n",
       "      <td>0.756908</td>\n",
       "      <td>0.327668</td>\n",
       "      <td>1.543764</td>\n",
       "      <td>-1.240298</td>\n",
       "      <td>0.101193</td>\n",
       "      <td>-0.874450</td>\n",
       "      <td>0</td>\n",
       "    </tr>\n",
       "    <tr>\n",
       "      <th>4</th>\n",
       "      <td>0.781997</td>\n",
       "      <td>-0.449780</td>\n",
       "      <td>-0.316334</td>\n",
       "      <td>0.375379</td>\n",
       "      <td>0.989940</td>\n",
       "      <td>-0.220541</td>\n",
       "      <td>0</td>\n",
       "    </tr>\n",
       "  </tbody>\n",
       "</table>\n",
       "</div>"
      ],
      "text/plain": [
       "         fa        fb        fc        fd        fe        ff  Target\n",
       "0  1.450666  0.244494  0.657862 -0.953787 -0.934471 -0.517276       0\n",
       "1 -0.245561  0.005620  0.569860 -0.143364 -0.180082 -0.295088       0\n",
       "2 -0.679014  1.829301  2.176041  0.502632 -2.097704 -0.098297       0\n",
       "3  0.756908  0.327668  1.543764 -1.240298  0.101193 -0.874450       0\n",
       "4  0.781997 -0.449780 -0.316334  0.375379  0.989940 -0.220541       0"
      ]
     },
     "execution_count": 86,
     "metadata": {},
     "output_type": "execute_result"
    }
   ],
   "source": [
    "# create the arrays XX and YY\n",
    "XX, YY =make_classification(\n",
    "                            n_samples=100,\n",
    "                            n_features=6,\n",
    "                            weights=[0.90], # creating imbalance\n",
    "                            n_redundant=1,\n",
    "                            n_informative=3,\n",
    "                            n_clusters_per_class=1,\n",
    "                            random_state=9)\n",
    "# make the data sets\n",
    "xx_df= pd.DataFrame(XX, columns=[\"fa\", \"fb\", 'fc', \"fd\", \"fe\", \"ff\"])\n",
    "yy_df=pd.DataFrame(YY, columns=[\"Target\"])\n",
    "\n",
    "# concat the dfs\n",
    "imbal_df= pd.concat([xx_df, yy_df],axis=1)\n",
    "imbal_df.head()\n",
    "\n",
    "\n",
    "\n",
    "    "
   ]
  },
  {
   "cell_type": "code",
   "execution_count": 87,
   "id": "5b9f6bff",
   "metadata": {},
   "outputs": [
    {
     "data": {
      "text/plain": [
       "<AxesSubplot:ylabel='Target'>"
      ]
     },
     "execution_count": 87,
     "metadata": {},
     "output_type": "execute_result"
    },
    {
     "data": {
      "image/png": "[encoded data removed]",
      "text/plain": [
       "<Figure size 640x480 with 1 Axes>"
      ]
     },
     "metadata": {},
     "output_type": "display_data"
    }
   ],
   "source": [
    "(imbal_df.Target.value_counts(normalize=True)*100).plot.pie(autopct=\"% .f%%\")"
   ]
  },
  {
   "cell_type": "markdown",
   "id": "064d6570",
   "metadata": {},
   "source": [
    "# The data is having 10% 1 and 90% 0 in Target feature"
   ]
  },
  {
   "cell_type": "code",
   "execution_count": null,
   "id": "6d079bd9",
   "metadata": {},
   "outputs": [],
   "source": []
  }
 ],
 "metadata": {
  "kernelspec": {
   "display_name": "Python 3 (ipykernel)",
   "language": "python",
   "name": "python3"
  },
  "language_info": {
   "codemirror_mode": {
    "name": "ipython",
    "version": 3
   },
   "file_extension": ".py",
   "mimetype": "text/x-python",
   "name": "python",
   "nbconvert_exporter": "python",
   "pygments_lexer": "ipython3",
   "version": "3.9.13"
  }
 },
 "nbformat": 4,
 "nbformat_minor": 5
}
